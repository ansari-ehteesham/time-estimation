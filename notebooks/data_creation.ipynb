{
 "cells": [
  {
   "cell_type": "markdown",
   "metadata": {},
   "source": [
    "# In this we're trying to create a Synthetic Dataset of Analog Clock"
   ]
  },
  {
   "cell_type": "code",
   "execution_count": 1,
   "metadata": {},
   "outputs": [
    {
     "data": {
      "text/plain": [
       "'d:\\\\Advanced Project\\\\time-estimation\\\\notebooks'"
      ]
     },
     "execution_count": 1,
     "metadata": {},
     "output_type": "execute_result"
    }
   ],
   "source": [
    "%pwd"
   ]
  },
  {
   "cell_type": "code",
   "execution_count": 2,
   "metadata": {},
   "outputs": [],
   "source": [
    "# Library\n",
    "import math\n",
    "import cv2\n",
    "import datetime\n",
    "import numpy as np\n",
    "from pathlib import Path\n",
    "import os\n",
    "from timeEstimator.Utils.common import create_directory\n",
    "import pandas as pd"
   ]
  },
  {
   "cell_type": "code",
   "execution_count": 3,
   "metadata": {},
   "outputs": [],
   "source": [
    "os.chdir(\"../\")"
   ]
  },
  {
   "cell_type": "code",
   "execution_count": 4,
   "metadata": {},
   "outputs": [
    {
     "name": "stdout",
     "output_type": "stream",
     "text": [
      "[2025-02-25 20:03:38,682]: INFO: common : Directory has been Created: raw\n",
      "[2025-02-25 20:03:38,687]: INFO: common : Directory has been Created: raw\\images\n"
     ]
    }
   ],
   "source": [
    "root_dir = Path('raw')\n",
    "image_dir = os.path.join(root_dir, \"images\")\n",
    "\n",
    "create_directory([root_dir, image_dir])\n",
    "\n",
    "lable_csv = os.path.join(root_dir, \"label.csv\")"
   ]
  },
  {
   "cell_type": "code",
   "execution_count": 5,
   "metadata": {},
   "outputs": [],
   "source": [
    "COLORS = {\n",
    "    'black': (0,0,0)}"
   ]
  },
  {
   "cell_type": "code",
   "execution_count": 6,
   "metadata": {},
   "outputs": [],
   "source": [
    "# Clock Geometry\n",
    "CLOCK_RADIUS = 260\n",
    "CENTER = (320, 320)\n",
    "CANVAS_SIZE = (640, 640)"
   ]
  },
  {
   "cell_type": "code",
   "execution_count": 7,
   "metadata": {},
   "outputs": [],
   "source": [
    "def get_ticks():\n",
    "\thours_init = []\n",
    "\thours_dest = []\n",
    "\n",
    "\tfor i in range(0,360,6):\n",
    "\t\tx_coordinate = int(CENTER[0] + CLOCK_RADIUS * math.cos(i * math.pi / 180))\n",
    "\t\ty_coordinate = int(CENTER[1] + CLOCK_RADIUS * math.sin(i * math.pi / 180))\n",
    "\n",
    "\t\thours_init.append((x_coordinate,y_coordinate))\n",
    "\n",
    "\tfor i in range(0,360,6):\n",
    "\t\tx_coordinate = int(CENTER[0] + (CLOCK_RADIUS-20) * math.cos(i * math.pi / 180))\n",
    "\t\ty_coordinate = int(CENTER[1] + (CLOCK_RADIUS-20) * math.sin(i * math.pi / 180))\n",
    "\n",
    "\t\thours_dest.append((x_coordinate,y_coordinate))\n",
    "\n",
    "\treturn hours_init, hours_dest"
   ]
  },
  {
   "cell_type": "code",
   "execution_count": 8,
   "metadata": {},
   "outputs": [],
   "source": [
    "def draw_time(image, hour, minute, second):\n",
    "\n",
    "\thour =hour\n",
    "\tminute = minute\n",
    "\tsecond = second\n",
    "\n",
    "\tsecond_angle = math.fmod(second * 6 + 270, 360)\n",
    "\tminute_angle = math.fmod(minute * 6 + 270, 360)\n",
    "\thour_angle = math.fmod((hour*30) + (minute/2) + 270, 360)\n",
    "\n",
    "\tsecond_x = int(CENTER[0] + (CLOCK_RADIUS-25) * math.cos(second_angle * math.pi / 180))\n",
    "\tsecond_y = int(CENTER[1] + (CLOCK_RADIUS-25) * math.sin(second_angle * math.pi / 180))\n",
    "\tcv2.line(image, CENTER, (second_x, second_y), COLORS['black'], 2)\n",
    "\n",
    "\tminute_x = int(CENTER[0] + (CLOCK_RADIUS-60) * math.cos(minute_angle * math.pi / 180))\n",
    "\tminute_y = int(CENTER[1] + (CLOCK_RADIUS-60) * math.sin(minute_angle * math.pi / 180))\n",
    "\tcv2.line(image, CENTER, (minute_x, minute_y), COLORS['black'], 3)\n",
    "\n",
    "\thour_x = int(CENTER[0] + (CLOCK_RADIUS-100) * math.cos(hour_angle * math.pi / 180))\n",
    "\thour_y = int(CENTER[1] + (CLOCK_RADIUS-100) * math.sin(hour_angle * math.pi / 180))\n",
    "\tcv2.line(image, CENTER, (hour_x, hour_y), COLORS['black'], 7)\n",
    "\n",
    "\tcv2.circle(image, CENTER, 5, COLORS['black'], -1)\n",
    "\n",
    "\treturn image"
   ]
  },
  {
   "cell_type": "code",
   "execution_count": 9,
   "metadata": {},
   "outputs": [],
   "source": [
    "image = np.zeros(CANVAS_SIZE, dtype=np.uint8)\n",
    "image[:] = 255\n",
    "\n",
    "hour_init, hour_end = get_ticks()\n",
    "window_name = \"Circle\"\n",
    "\n",
    "for i in range(len(hour_init)):\n",
    "\tif i % 5 == 0:\n",
    "\t\tcv2.line(image, hour_init[i], hour_end[i], COLORS['black'], 3)\n",
    "\t\thour_label = 12 if (i // 5) == 0 else (i // 5)\n",
    "\n",
    "\t\ttext_radius = CLOCK_RADIUS - 50\n",
    "\t\tangle_rad = math.radians(i * 6 + 270)\n",
    "\t\ttext_x = int(CENTER[0] + text_radius * math.cos(angle_rad))\n",
    "\t\ttext_y = int(CENTER[1] + text_radius * math.sin(angle_rad))\n",
    "        \n",
    "        \n",
    "\t\ttext_size = cv2.getTextSize(str(hour_label), cv2.FONT_HERSHEY_SIMPLEX, 0.8, 2)[0]\n",
    "\t\ttext_origin = (text_x - text_size[0] // 2, text_y + text_size[1] // 2)\n",
    "        \n",
    "        \n",
    "\t\tcv2.putText(image, str(hour_label), text_origin, cv2.FONT_HERSHEY_SIMPLEX, 0.8, COLORS['black'], 2)\n",
    "\telse:\n",
    "\t\tcv2.circle(image, hour_init[i], 5, COLORS['black'], -1)\n",
    "cv2.circle(image, (320,320), CLOCK_RADIUS+10, COLORS['black'], 2)\n",
    "img = cv2.circle(img = image, center = CENTER, radius = CLOCK_RADIUS, color = (255, 255, 255))\n",
    "\n",
    "\n",
    "hours = np.arange(1, 13)\n",
    "minutes = np.arange(0, 60)\n",
    "seconds = np.arange(0, 60)\n",
    "\n",
    "hr, mi, se = np.meshgrid(hours, minutes, seconds, indexing='ij')\n",
    "\n",
    "format_time = np.vectorize(lambda h, m, s: f\"{h:02d}:{m:02d}:{s:02d}\")\n",
    "time_strings = format_time(hr, mi, se)\n",
    "\n",
    "time_strings_flat = time_strings.flatten()\n",
    "df = pd.DataFrame(columns=[\"img_dir\", \"hour\", \"minute\", \"second\"])\n",
    "\n",
    "\n",
    "for i in range(len(time_strings_flat)):\n",
    "\t\timage_original = image.copy()\n",
    "\n",
    "\t\ttime_obj = datetime.datetime.strptime(str(time_strings_flat[i]), \"%I:%M:%S\").time()\n",
    "\t\thour = time_obj.hour\n",
    "\t\tminutes = time_obj.minute\n",
    "\t\tseconds = time_obj.second\n",
    "\n",
    "\t\tclock_face = draw_time(image=image_original, hour=hour, minute=minutes, second=seconds)\n",
    "\n",
    "\t\tfilename = os.path.join(image_dir, f\"{i}.png\")\n",
    "\n",
    "\t\tnew_df = pd.DataFrame({\n",
    "\t\t\t'img_dir': [filename],\n",
    "\t\t\t'hour': [hour],\n",
    "\t\t\t'minute': [minutes],\n",
    "\t\t\t'second': [seconds]\n",
    "\t\t})\n",
    "\n",
    "\t\tdf = pd.concat([df, new_df], ignore_index=True)\n",
    "\n",
    "\t\tcv2.imwrite(filename=filename, img=image_original)\n",
    "\n",
    "df.to_csv(lable_csv,index=False)"
   ]
  },
  {
   "cell_type": "code",
   "execution_count": 10,
   "metadata": {},
   "outputs": [],
   "source": [
    "img_list = os.listdir(\"raw/images\")"
   ]
  },
  {
   "cell_type": "code",
   "execution_count": 11,
   "metadata": {},
   "outputs": [
    {
     "data": {
      "text/plain": [
       "43200"
      ]
     },
     "execution_count": 11,
     "metadata": {},
     "output_type": "execute_result"
    }
   ],
   "source": [
    "len(img_list)"
   ]
  },
  {
   "cell_type": "code",
   "execution_count": 14,
   "metadata": {},
   "outputs": [
    {
     "data": {
      "text/html": [
       "<div>\n",
       "<style scoped>\n",
       "    .dataframe tbody tr th:only-of-type {\n",
       "        vertical-align: middle;\n",
       "    }\n",
       "\n",
       "    .dataframe tbody tr th {\n",
       "        vertical-align: top;\n",
       "    }\n",
       "\n",
       "    .dataframe thead th {\n",
       "        text-align: right;\n",
       "    }\n",
       "</style>\n",
       "<table border=\"1\" class=\"dataframe\">\n",
       "  <thead>\n",
       "    <tr style=\"text-align: right;\">\n",
       "      <th></th>\n",
       "      <th>img_dir</th>\n",
       "      <th>hour</th>\n",
       "      <th>minute</th>\n",
       "      <th>second</th>\n",
       "    </tr>\n",
       "  </thead>\n",
       "  <tbody>\n",
       "    <tr>\n",
       "      <th>0</th>\n",
       "      <td>raw\\images\\0.png</td>\n",
       "      <td>1</td>\n",
       "      <td>0</td>\n",
       "      <td>0</td>\n",
       "    </tr>\n",
       "    <tr>\n",
       "      <th>1</th>\n",
       "      <td>raw\\images\\1.png</td>\n",
       "      <td>1</td>\n",
       "      <td>0</td>\n",
       "      <td>1</td>\n",
       "    </tr>\n",
       "    <tr>\n",
       "      <th>2</th>\n",
       "      <td>raw\\images\\2.png</td>\n",
       "      <td>1</td>\n",
       "      <td>0</td>\n",
       "      <td>2</td>\n",
       "    </tr>\n",
       "    <tr>\n",
       "      <th>3</th>\n",
       "      <td>raw\\images\\3.png</td>\n",
       "      <td>1</td>\n",
       "      <td>0</td>\n",
       "      <td>3</td>\n",
       "    </tr>\n",
       "    <tr>\n",
       "      <th>4</th>\n",
       "      <td>raw\\images\\4.png</td>\n",
       "      <td>1</td>\n",
       "      <td>0</td>\n",
       "      <td>4</td>\n",
       "    </tr>\n",
       "  </tbody>\n",
       "</table>\n",
       "</div>"
      ],
      "text/plain": [
       "            img_dir  hour  minute  second\n",
       "0  raw\\images\\0.png     1       0       0\n",
       "1  raw\\images\\1.png     1       0       1\n",
       "2  raw\\images\\2.png     1       0       2\n",
       "3  raw\\images\\3.png     1       0       3\n",
       "4  raw\\images\\4.png     1       0       4"
      ]
     },
     "execution_count": 14,
     "metadata": {},
     "output_type": "execute_result"
    }
   ],
   "source": [
    "df = pd.read_csv(\"raw/label.csv\")\n",
    "df.head()"
   ]
  },
  {
   "cell_type": "code",
   "execution_count": null,
   "metadata": {},
   "outputs": [],
   "source": []
  }
 ],
 "metadata": {
  "kernelspec": {
   "display_name": "env",
   "language": "python",
   "name": "python3"
  },
  "language_info": {
   "codemirror_mode": {
    "name": "ipython",
    "version": 3
   },
   "file_extension": ".py",
   "mimetype": "text/x-python",
   "name": "python",
   "nbconvert_exporter": "python",
   "pygments_lexer": "ipython3",
   "version": "3.12.4"
  }
 },
 "nbformat": 4,
 "nbformat_minor": 2
}
