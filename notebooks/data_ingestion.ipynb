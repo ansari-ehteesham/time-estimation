{
 "cells": [
  {
   "cell_type": "code",
   "execution_count": 1,
   "metadata": {},
   "outputs": [
    {
     "data": {
      "text/plain": [
       "'d:\\\\Advanced Project\\\\time-estimation\\\\notebooks'"
      ]
     },
     "execution_count": 1,
     "metadata": {},
     "output_type": "execute_result"
    }
   ],
   "source": [
    "%pwd"
   ]
  },
  {
   "cell_type": "code",
   "execution_count": 2,
   "metadata": {},
   "outputs": [],
   "source": [
    "import os\n",
    "os.chdir(\"../\")"
   ]
  },
  {
   "cell_type": "code",
   "execution_count": 3,
   "metadata": {},
   "outputs": [
    {
     "data": {
      "text/plain": [
       "'d:\\\\Advanced Project\\\\time-estimation'"
      ]
     },
     "execution_count": 3,
     "metadata": {},
     "output_type": "execute_result"
    }
   ],
   "source": [
    "%pwd"
   ]
  },
  {
   "cell_type": "code",
   "execution_count": 4,
   "metadata": {},
   "outputs": [],
   "source": [
    "from dataclasses import dataclass\n",
    "from pathlib import Path"
   ]
  },
  {
   "cell_type": "code",
   "execution_count": 5,
   "metadata": {},
   "outputs": [],
   "source": [
    "@dataclass(frozen=True)\n",
    "class DataIngestionEntity:\n",
    "    root_dir: Path\n",
    "    zip_file: Path"
   ]
  },
  {
   "cell_type": "code",
   "execution_count": null,
   "metadata": {},
   "outputs": [],
   "source": [
    "from timeEstimator.Utils.common import create_directory, read_yaml\n",
    "from timeEstimator.constant import *"
   ]
  },
  {
   "cell_type": "code",
   "execution_count": 9,
   "metadata": {},
   "outputs": [],
   "source": [
    "class ConfigurationManager:\n",
    "    def __init__(self, params=PARAMS_FILE_PATH, config=CONFIG_FILE_PATH):\n",
    "        self.params = read_yaml(params)\n",
    "        self.config = read_yaml(config)\n",
    "\n",
    "        create_directory([self.config.root_dir])\n",
    "\n",
    "    def data_ingestion_config(self):\n",
    "        config = self.config.data_ingestion\n",
    "\n",
    "        entity = DataIngestionEntity(\n",
    "            root_dir = config.root_dir,\n",
    "            zip_file = config.zip_file\n",
    "        )\n",
    "\n",
    "        return entity"
   ]
  },
  {
   "cell_type": "code",
   "execution_count": 10,
   "metadata": {},
   "outputs": [],
   "source": [
    "from zipfile import ZipFile\n",
    "from timeEstimator.logging import logger\n",
    "from timeEstimator.Exception.exception import CustomException"
   ]
  },
  {
   "cell_type": "code",
   "execution_count": 11,
   "metadata": {},
   "outputs": [],
   "source": [
    "class DataIngestion:\n",
    "    def __init__(self, config : DataIngestionEntity):\n",
    "        self.config = config\n",
    "\n",
    "    def rename_folder(self):\n",
    "        for file in os.listdir(self.config.root_dir):   \n",
    "            if \"raw\" in file:\n",
    "                os.rename(f\"{self.config.root_dir}/{file}\", f\"{self.config.root_dir}/data_ingestion\")\n",
    "                logger.info(f\"File Name Changed from {file} to data_ingestion\")\n",
    "                break\n",
    "\n",
    "    def data_ingest(self):\n",
    "        try:\n",
    "            logger.info(f\"Zip Extarction Started : {self.config.zip_file}\")\n",
    "            with ZipFile(self.config.zip_file, 'r') as f:\n",
    "                f.extractall(self.config.root_dir)\n",
    "                f.close()\n",
    "            self.rename_folder()\n",
    "            logger.info(f\"Zip Extraction Finished at : {os.path.join(self.config.root_dir, \"data_ingestion\")}\")\n",
    "        except Exception as e:\n",
    "            raise CustomException(str(e))\n",
    "\n",
    "        "
   ]
  },
  {
   "cell_type": "code",
   "execution_count": 12,
   "metadata": {},
   "outputs": [
    {
     "name": "stdout",
     "output_type": "stream",
     "text": [
      "[2025-02-25 21:27:48,481]: INFO: common : Read YAML File: params.yaml\n",
      "[2025-02-25 21:27:48,483]: INFO: common : Read YAML File: config\\config.yaml\n",
      "[2025-02-25 21:27:48,484]: INFO: common : Directory has been Created: artifacts\n",
      "[2025-02-25 21:27:48,485]: INFO: 1530169652 : Zip Extarction Started : raw.zip\n",
      "[2025-02-25 21:28:15,262]: INFO: 1530169652 : File Name Changed from raw to data_ingestion\n",
      "[2025-02-25 21:28:15,262]: INFO: 1530169652 : Zip Extraction Finished at : artifacts/data_ingestion\n"
     ]
    }
   ],
   "source": [
    "config = ConfigurationManager()\n",
    "ingestion_config = config.data_ingestion_config()\n",
    "data_ingestion = DataIngestion(config = ingestion_config)\n",
    "data_ingestion.data_ingest()"
   ]
  },
  {
   "cell_type": "code",
   "execution_count": null,
   "metadata": {},
   "outputs": [],
   "source": []
  }
 ],
 "metadata": {
  "kernelspec": {
   "display_name": "env",
   "language": "python",
   "name": "python3"
  },
  "language_info": {
   "codemirror_mode": {
    "name": "ipython",
    "version": 3
   },
   "file_extension": ".py",
   "mimetype": "text/x-python",
   "name": "python",
   "nbconvert_exporter": "python",
   "pygments_lexer": "ipython3",
   "version": "3.12.4"
  }
 },
 "nbformat": 4,
 "nbformat_minor": 2
}
