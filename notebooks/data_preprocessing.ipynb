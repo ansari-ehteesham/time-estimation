{
 "cells": [
  {
   "cell_type": "code",
   "execution_count": 12,
   "metadata": {},
   "outputs": [
    {
     "data": {
      "text/plain": [
       "'d:\\\\Advanced Project\\\\time-estimation\\\\notebooks'"
      ]
     },
     "execution_count": 12,
     "metadata": {},
     "output_type": "execute_result"
    }
   ],
   "source": [
    "%pwd"
   ]
  },
  {
   "cell_type": "code",
   "execution_count": 13,
   "metadata": {},
   "outputs": [],
   "source": [
    "import os\n",
    "os.chdir(\"../\")"
   ]
  },
  {
   "cell_type": "code",
   "execution_count": 14,
   "metadata": {},
   "outputs": [],
   "source": [
    "from dataclasses import dataclass\n",
    "from pathlib import Path"
   ]
  },
  {
   "cell_type": "code",
   "execution_count": null,
   "metadata": {},
   "outputs": [],
   "source": [
    "@dataclass(frozen=True)\n",
    "class DataPreProcessingEntity:\n",
    "    root_dir: Path\n",
    "    img_dir: Path\n",
    "    label_csv: Path\n",
    "    train_dir: Path\n",
    "    test_dir: Path\n",
    "    val_dir: Path\n",
    "    data_mean: float\n",
    "    data_std: float\n",
    "    img_height: int\n",
    "    img_width: int"
   ]
  },
  {
   "cell_type": "code",
   "execution_count": 16,
   "metadata": {},
   "outputs": [],
   "source": [
    "from timeEstimator.constant import *\n",
    "from timeEstimator.Utils.common import read_yaml, create_directory"
   ]
  },
  {
   "cell_type": "code",
   "execution_count": 17,
   "metadata": {},
   "outputs": [],
   "source": [
    "class ConfigurationManager:\n",
    "    def __init__(self, params=PARAMS_FILE_PATH, config=CONFIG_FILE_PATH):\n",
    "        self.params = read_yaml(params)\n",
    "        self.config = read_yaml(config)\n",
    "\n",
    "        create_directory([self.config.root_dir])\n",
    "    \n",
    "    def data_preprocessing_config(self):\n",
    "        config = self.config.data_preprocessed\n",
    "        params = self.params.data_preprocessed\n",
    "\n",
    "        create_directory([\n",
    "            config.root_dir,\n",
    "            config.train_dir,\n",
    "            config.test_dir,\n",
    "            config.val_dir\n",
    "        ])\n",
    "\n",
    "        config = DataPreProcessingEntity(\n",
    "            root_dir = Path(config.root_dir),\n",
    "            img_dir = Path(config.img_dir),\n",
    "            label_csv = Path(config.label_csv),\n",
    "            train_dir = Path(config.train_dir),\n",
    "            test_dir = Path(config.test_dir),\n",
    "            val_dir = Path(config.val_dir),\n",
    "            data_mean = params.data_mean,\n",
    "            data_std = params.data_std,\n",
    "            img_height = params.img_height,\n",
    "            img_width = params.img_width\n",
    "        )\n",
    "\n",
    "        return config"
   ]
  },
  {
   "cell_type": "code",
   "execution_count": 35,
   "metadata": {},
   "outputs": [],
   "source": [
    "import cv2\n",
    "import pandas as pd\n",
    "import numpy as np\n",
    "from timeEstimator.logging import logger\n",
    "from sklearn.model_selection import train_test_split\n",
    "from albumentations import Compose, Resize, Normalize\n",
    "from timeEstimator.Exception.exception import CustomException"
   ]
  },
  {
   "cell_type": "code",
   "execution_count": null,
   "metadata": {},
   "outputs": [],
   "source": [
    "class DataPreProcessing:\n",
    "    def __init__(self, config : DataPreProcessingEntity):\n",
    "        self.config = config\n",
    "\n",
    "    def read_img(self, img_dir):\n",
    "        image = cv2.imread(img_dir, cv2.IMREAD_GRAYSCALE)\n",
    "        image = np.repeat(image, 3,axis=-1)\n",
    "\n",
    "        return image\n",
    "\n",
    "\n",
    "    def preprocess(self, x, root_dir):\n",
    "\n",
    "        aug = Compose([\n",
    "            Resize(height=self.config.img_height, width=self.config.img_width, always_apply=True),\n",
    "            Normalize(mean=self.config.data_mean, std=self.config.data_std)\n",
    "        ])\n",
    "        img_name = x['img_dir']\n",
    "        img_dir = os.path.join(self.config.img_dir, img_name)\n",
    "        img_load = self.read_img(img_dir)\n",
    "        augmented_img = aug(image = img_load)\n",
    "        img_uint8 = (augmented_img * 255).astype(np.uint8)\n",
    "\n",
    "\n",
    "        img_name = img_name.split(\".\")[0]\n",
    "        save_dir = os.path.join(root_dir, f\"{img_name}.png\")\n",
    "\n",
    "\n",
    "        cv2.imwrite(save_dir, img_uint8)\n",
    "\n",
    "        return save_dir\n",
    "\n",
    "\n",
    "    def load_data(self):\n",
    "        try:\n",
    "            df = pd.read_csv(self.config.label_csv)\n",
    "            logger.info(f\"Label CSV File Loaded: {self.config.label_csv}\")\n",
    "            \n",
    "            train, test = train_test_split(df, test_size=0.15, random_state=42)\n",
    "            train, val = train_test_split(train, test_size=0.15, random_state=42)\n",
    "\n",
    "            logger.info(f\"Data Splitted: Train ({len(train)}), Test ({len(test)}), Validation ({len(val)})\")\n",
    "\n",
    "            train[\"new_img_dir\"] = train.apply(lambda x: self.preprocess(x, self.config.train_dir),axis=1)\n",
    "            test[\"new_img_dir\"] = test.apply(lambda x: self.preprocess(x, self.config.test_dir), axis=1)\n",
    "            val[\"new_img_dir\"] = val.apply(lambda x: self.preprocess(x, self.config.val_dir), axis=1)\n",
    "\n",
    "            logger.info(f\"Data Pre-Processing Completed\")\n",
    "\n",
    "            train.to_csv(os.path.join(self.config.root_dir, \"train.csv\"), index=False)\n",
    "            test.to_csv(os.path.join(self.config.root_dir, \"test.csv\"), index=False)\n",
    "            val.to_csv(os.path.join(self.config.root_dir, \"val.csv\"), index=False)\n",
    "\n",
    "            logger.info(f\"Train, Test and Validation Pre-processed Data saved at: {self.config.root_dir} \")\n",
    "        except Exception as e:\n",
    "            raise CustomException(str(e))\n",
    "\n",
    "        "
   ]
  },
  {
   "cell_type": "code",
   "execution_count": 55,
   "metadata": {},
   "outputs": [
    {
     "name": "stdout",
     "output_type": "stream",
     "text": [
      "[2025-02-26 01:27:42,259]: INFO: common : Read YAML File: params.yaml\n",
      "[2025-02-26 01:27:42,261]: INFO: common : Read YAML File: config\\config.yaml\n",
      "[2025-02-26 01:27:42,263]: INFO: common : Directory has been Created: artifacts\n",
      "[2025-02-26 01:27:42,264]: INFO: common : Directory has been Created: artifacts\\data_preprocessed\n",
      "[2025-02-26 01:27:42,265]: INFO: common : Directory has been Created: artifacts\\data_preprocessed\\train\n",
      "[2025-02-26 01:27:42,266]: INFO: common : Directory has been Created: artifacts\\data_preprocessed\\test\n",
      "[2025-02-26 01:27:42,267]: INFO: common : Directory has been Created: artifacts\\data_preprocessed\\val\n",
      "[2025-02-26 01:27:42,295]: INFO: 34648359 : Label CSV File Loaded: artifacts\\data_ingestion\\label.csv\n",
      "[2025-02-26 01:27:42,312]: INFO: 34648359 : Data Splitted: Train (31212), Test (6480), Validatio (5508)\n"
     ]
    },
    {
     "name": "stderr",
     "output_type": "stream",
     "text": [
      "C:\\Users\\ehtes\\AppData\\Local\\Temp\\ipykernel_9440\\34648359.py:15: UserWarning: Argument(s) 'always_apply' are not valid for transform Resize\n",
      "  Resize(height=self.config.img_height, width=self.config.img_width, always_apply=True),\n",
      "C:\\Users\\ehtes\\AppData\\Local\\Temp\\ipykernel_9440\\34648359.py:15: UserWarning: Argument(s) 'always_apply' are not valid for transform Resize\n",
      "  Resize(height=self.config.img_height, width=self.config.img_width, always_apply=True),\n",
      "C:\\Users\\ehtes\\AppData\\Local\\Temp\\ipykernel_9440\\34648359.py:15: UserWarning: Argument(s) 'always_apply' are not valid for transform Resize\n",
      "  Resize(height=self.config.img_height, width=self.config.img_width, always_apply=True),\n"
     ]
    },
    {
     "name": "stdout",
     "output_type": "stream",
     "text": [
      "[2025-02-26 01:36:13,846]: INFO: 34648359 : Data Pre-Processing Completed\n",
      "[2025-02-26 01:36:13,952]: INFO: 34648359 : Train, Test and Validation Pre-processed Data saved at: artifacts\\data_preprocessed \n"
     ]
    }
   ],
   "source": [
    "config = ConfigurationManager()\n",
    "preprocess_config = config.data_preprocessing_config()\n",
    "data_preprocessing = DataPreProcessing(preprocess_config)\n",
    "data_preprocessing.load_data()"
   ]
  }
 ],
 "metadata": {
  "kernelspec": {
   "display_name": "env",
   "language": "python",
   "name": "python3"
  },
  "language_info": {
   "codemirror_mode": {
    "name": "ipython",
    "version": 3
   },
   "file_extension": ".py",
   "mimetype": "text/x-python",
   "name": "python",
   "nbconvert_exporter": "python",
   "pygments_lexer": "ipython3",
   "version": "3.12.4"
  }
 },
 "nbformat": 4,
 "nbformat_minor": 2
}
